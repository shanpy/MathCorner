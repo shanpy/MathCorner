{
 "metadata": {
  "name": "",
  "signature": "sha256:27b01227f9d524f49787d6a3881dea3c7401bac412b203e31bfa1e03c4878894"
 },
 "nbformat": 3,
 "nbformat_minor": 0,
 "worksheets": [
  {
   "cells": [
    {
     "cell_type": "markdown",
     "metadata": {},
     "source": [
      "This post is one of **Python Basics** reading notes. You can find all reading notes from the collection of \"Python\" tag. Parts of information for this notes comes from <a href=\"http://www.tutorialspoint.com/python/python_tuples.htm\">Python Tutorial on tutorialspoint.com</a>."
     ]
    },
    {
     "cell_type": "markdown",
     "metadata": {},
     "source": [
      "<!-- TEASER_END -->"
     ]
    },
    {
     "cell_type": "markdown",
     "metadata": {},
     "source": [
      "<!-- TEASER_END -->"
     ]
    },
    {
     "cell_type": "code",
     "collapsed": false,
     "input": [
      "#Tuple is a one-dimentional, fiexed lengh, immutable sequence of python objects\n",
      "#This means once a tuple has been created, you can not edit it anymore\n",
      "#tuple() can be used to create tuple\n",
      "\n",
      "tup = 4,5,6\n",
      "print(tup)\n",
      "tup_2 = 3, #you can write tuple with empty space\n",
      "print(tup_2)\n",
      "nested_tup = (4,5,6),(7,8)\n",
      "print(nested_tup)\n",
      "string_tup = tuple(\"Hellow world\")\n",
      "print(string_tup)"
     ],
     "language": "python",
     "metadata": {},
     "outputs": [
      {
       "output_type": "stream",
       "stream": "stdout",
       "text": [
        "(4, 5, 6)\n",
        "(3,)\n",
        "((4, 5, 6), (7, 8))\n",
        "('H', 'e', 'l', 'l', 'o', 'w', ' ', 'w', 'o', 'r', 'l', 'd')\n"
       ]
      }
     ],
     "prompt_number": 14
    },
    {
     "cell_type": "code",
     "collapsed": false,
     "input": [
      "#tuple can be concatenated using the `+` operator\n",
      "\n",
      "nested_tup + string_tup"
     ],
     "language": "python",
     "metadata": {},
     "outputs": [
      {
       "metadata": {},
       "output_type": "pyout",
       "prompt_number": 8,
       "text": [
        "((4, 5, 6),\n",
        " (7, 8),\n",
        " 'H',\n",
        " 'e',\n",
        " 'l',\n",
        " 'l',\n",
        " 'o',\n",
        " 'w',\n",
        " ' ',\n",
        " 'W',\n",
        " 'o',\n",
        " 'r',\n",
        " 'l',\n",
        " 'd',\n",
        " ' ',\n",
        " '!')"
       ]
      }
     ],
     "prompt_number": 8
    },
    {
     "cell_type": "code",
     "collapsed": false,
     "input": [
      "#tuple can have multiple concatenated effect\n",
      "\n",
      "nested_tup * 2"
     ],
     "language": "python",
     "metadata": {},
     "outputs": [
      {
       "metadata": {},
       "output_type": "pyout",
       "prompt_number": 3,
       "text": [
        "((4, 5, 6), (7, 8), (4, 5, 6), (7, 8))"
       ]
      }
     ],
     "prompt_number": 3
    },
    {
     "cell_type": "code",
     "collapsed": false,
     "input": [
      "#tuple can be unpacked\n",
      "\n",
      "a,b,c = tup\n",
      "print(a)\n",
      "print(b)\n",
      "print(c)"
     ],
     "language": "python",
     "metadata": {},
     "outputs": [
      {
       "output_type": "stream",
       "stream": "stdout",
       "text": [
        "4\n",
        "5\n",
        "6\n"
       ]
      }
     ],
     "prompt_number": 6
    },
    {
     "cell_type": "code",
     "collapsed": false,
     "input": [
      "#count() counts occurrance in tuple\n",
      "string_tup.count('w')"
     ],
     "language": "python",
     "metadata": {},
     "outputs": [
      {
       "metadata": {},
       "output_type": "pyout",
       "prompt_number": 13,
       "text": [
        "2"
       ]
      }
     ],
     "prompt_number": 13
    },
    {
     "cell_type": "code",
     "collapsed": false,
     "input": [
      "#tuple can be accessed via index, starting from 0. \n",
      "#to get substring, note end index is exclusive\n",
      "#negative number can be used to count from back\n",
      "\n",
      "print(tup[-1]) #Note -1 means last item in tuple\n",
      "print(tup[1:])\n",
      "print(tup[0:2])"
     ],
     "language": "python",
     "metadata": {},
     "outputs": [
      {
       "output_type": "stream",
       "stream": "stdout",
       "text": [
        "6\n",
        "(5, 6)\n",
        "(4, 5)\n"
       ]
      }
     ],
     "prompt_number": 23
    },
    {
     "cell_type": "code",
     "collapsed": false,
     "input": [
      "#del can be used to delete tuple\n",
      "del nested_tup"
     ],
     "language": "python",
     "metadata": {},
     "outputs": []
    },
    {
     "cell_type": "code",
     "collapsed": false,
     "input": [
      "#in can be used for tuple for existence testing\n",
      "#len() can be used to check length of tuple\n",
      "\n",
      "print(4 in tup)\n",
      "len(string_tup)"
     ],
     "language": "python",
     "metadata": {},
     "outputs": [
      {
       "output_type": "stream",
       "stream": "stdout",
       "text": [
        "True\n"
       ]
      },
      {
       "metadata": {},
       "output_type": "pyout",
       "prompt_number": 19,
       "text": [
        "12"
       ]
      }
     ],
     "prompt_number": 19
    },
    {
     "cell_type": "code",
     "collapsed": false,
     "input": [
      "#Since tuple is iterable, you can use for loop for a tuple\n",
      "for x in tup:\n",
      "    print x"
     ],
     "language": "python",
     "metadata": {},
     "outputs": [
      {
       "output_type": "stream",
       "stream": "stdout",
       "text": [
        "4\n",
        "5\n",
        "6\n"
       ]
      }
     ],
     "prompt_number": 22
    },
    {
     "cell_type": "code",
     "collapsed": false,
     "input": [
      "#cmp(tuple1, tuple2) compare elements of two tuples\n",
      "#return 1 if first item is larger, return 0 if equal, return -1 if first item is smaller\n",
      "\n",
      "cmp(tup,tup_2)"
     ],
     "language": "python",
     "metadata": {},
     "outputs": [
      {
       "metadata": {},
       "output_type": "pyout",
       "prompt_number": 25,
       "text": [
        "1"
       ]
      }
     ],
     "prompt_number": 25
    },
    {
     "cell_type": "code",
     "collapsed": false,
     "input": [
      "#max() and min() return max/min item from tuple\n",
      "print(max(tup))\n",
      "print(min(tup))"
     ],
     "language": "python",
     "metadata": {},
     "outputs": [
      {
       "output_type": "stream",
       "stream": "stdout",
       "text": [
        "6\n",
        "4\n"
       ]
      }
     ],
     "prompt_number": 26
    },
    {
     "cell_type": "code",
     "collapsed": false,
     "input": [],
     "language": "python",
     "metadata": {},
     "outputs": []
    }
   ],
   "metadata": {}
  }
 ]
}