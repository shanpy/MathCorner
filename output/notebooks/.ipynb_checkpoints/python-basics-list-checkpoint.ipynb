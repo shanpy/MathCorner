{
 "cells": [
  {
   "cell_type": "markdown",
   "metadata": {},
   "source": [
    "This post is one of **Python Basics** reading notes. You can find all reading notes from the collection of \"Python\" tag. Parts of information for this notes comes from <a href=\"http://www.tutorialspoint.com/python/python_lists.htm\">Python Tutorial on tutorialspoint.com</a>."
   ]
  },
  {
   "cell_type": "markdown",
   "metadata": {},
   "source": [
    "# <!-- collapse=True -->"
   ]
  },
  {
   "cell_type": "markdown",
   "metadata": {},
   "source": [
    "<!-- TEASER_END -->"
   ]
  },
  {
   "cell_type": "code",
   "execution_count": 1,
   "metadata": {
    "collapsed": false
   },
   "outputs": [
    {
     "name": "stdout",
     "output_type": "stream",
     "text": [
      "[2, 3, 'test', None]\n",
      "['1', '2']\n"
     ]
    }
   ],
   "source": [
    "#List are tuples with content modifying.\n",
    "#You can create list by using '[]' or 'list()' function\n",
    "\n",
    "a = [2,3,'test',None] #None must start from upper case\n",
    "print(a)\n",
    "tup = \"1\",\"2\"\n",
    "b = list(tup)\n",
    "print(b)"
   ]
  },
  {
   "cell_type": "code",
   "execution_count": 2,
   "metadata": {
    "collapsed": false
   },
   "outputs": [
    {
     "data": {
      "text/plain": [
       "['1', '2', 'insert']"
      ]
     },
     "execution_count": 2,
     "metadata": {},
     "output_type": "execute_result"
    }
   ],
   "source": [
    "#Add to List:\n",
    "#append() append element to end of list\n",
    "#insert(num,char) append to specific location\n",
    "\n",
    "b.insert(5,'insert') #if your location is out of boundary, char is added to end of list\n",
    "b"
   ]
  },
  {
   "cell_type": "code",
   "execution_count": 3,
   "metadata": {
    "collapsed": false
   },
   "outputs": [
    {
     "name": "stdout",
     "output_type": "stream",
     "text": [
      "[2, 3, 'test', None, '1', '2', 'insert']\n",
      "False\n",
      "[2, 3, 'test', None, '1', '2', 'insert', 2, 3, 'test', None, '1', '2', 'insert']\n",
      "None\n",
      "[2, 3, 'test', None, 'test']\n"
     ]
    }
   ],
   "source": [
    "# in, +, * can be used to list also\n",
    "# extend() equals to +, but it is quicker. \n",
    "# Important: extend() change original variable, instead of creating new variable\n",
    "\n",
    "c = a + b\n",
    "print(c)\n",
    "print(1 in c)\n",
    "print(c * 2)\n",
    "\n",
    "d = a.extend([\"test\"])\n",
    "print(d) #You can only get None here, because extend() not create new variable\n",
    "print(a)"
   ]
  },
  {
   "cell_type": "code",
   "execution_count": 4,
   "metadata": {
    "collapsed": false
   },
   "outputs": [
    {
     "name": "stdout",
     "output_type": "stream",
     "text": [
      "[2, 3, 'test', None, '1', '2', 'insert']\n",
      "[2, 3, 'test', None, '1', 'insert']\n",
      "[2, 3, None, '1', 'insert']\n",
      "[2, 'more', 3, None, '1', 'insert']\n",
      "1\n"
     ]
    }
   ],
   "source": [
    "# list.index(var) return lowest index of variable\n",
    "# list.insert(index,var) insert variable to sepcial index\n",
    "# list.pop(var=list[-1]) removes the last variable from list and return it\n",
    "# list.remove(var) removes the first such value in list\n",
    "\n",
    "print(c)\n",
    "c.remove('2')\n",
    "print(c)\n",
    "c.pop(2) #2 here is the index of element\n",
    "print(c)\n",
    "c.insert(1,\"more\")\n",
    "print(c)\n",
    "print(c.index(\"more\"))"
   ]
  },
  {
   "cell_type": "code",
   "execution_count": 5,
   "metadata": {
    "collapsed": false
   },
   "outputs": [
    {
     "data": {
      "text/plain": [
       "['1', '2', 'insert']"
      ]
     },
     "execution_count": 5,
     "metadata": {},
     "output_type": "execute_result"
    }
   ],
   "source": [
    "# sort() is used to do in-place sort for list\n",
    "# sort(key=\"\") is used for sorting with parameter\n",
    "# or sort(key=[function]) to sort by a function\n",
    "\n",
    "b.sort(key=len)\n",
    "b"
   ]
  },
  {
   "cell_type": "code",
   "execution_count": 6,
   "metadata": {
    "collapsed": false
   },
   "outputs": [
    {
     "name": "stdout",
     "output_type": "stream",
     "text": [
      "3\n",
      "None\n",
      "[1, 2, 4, 4, 6, 8, 8, 10]\n"
     ]
    }
   ],
   "source": [
    "# \"import bisect\" is ued for binary-search first, then insert to a sorted list\n",
    "# bisect.bisect(list,element) can find location where the element shoudl be inserted\n",
    "# bisect.insort(list,element) can insert element to sorted location. This apply to original value!\n",
    "\n",
    "import bisect\n",
    "d = [1,2,4,6,8,8,10] #make sure list has been sorted first\n",
    "print(bisect.bisect(d,4)) #find where 4 should be inserted to\n",
    "print(bisect.insort(d,4)) #then insert 4 to list. This produce None \n",
    "print(d)"
   ]
  },
  {
   "cell_type": "code",
   "execution_count": 7,
   "metadata": {
    "collapsed": false
   },
   "outputs": [
    {
     "name": "stdout",
     "output_type": "stream",
     "text": [
      "[2, 4]\n",
      "[1, 2, 'a', 'b', 6, 8, 8, 10]\n",
      "[8, 8, 10]\n",
      "['b', 6, 8, 8]\n",
      "[1, 'b', 8]\n",
      "[10, 8, 8, 6, 'b', 'a', 2, 1]\n"
     ]
    }
   ],
   "source": [
    "# slice() can used to list or tuples, using 'start, stop-1' index\n",
    "# slice() can also be used for insertion\n",
    "# index of slice() can be negative\n",
    "\n",
    "print(d[1:3])\n",
    "d[2:4] = [\"a\",\"b\"]\n",
    "print(d)\n",
    "print(d[5:])\n",
    "print(d[-5:-1]) #Here, for negative index, start index is exclusive, and last element has index 0\n",
    "print(d[::3]) # :: can be used for every nth element\n",
    "print(d[::-1]) # So [::-1] can be used to reverse a list !"
   ]
  },
  {
   "cell_type": "code",
   "execution_count": 8,
   "metadata": {
    "collapsed": false
   },
   "outputs": [
    {
     "data": {
      "text/plain": [
       "[10, 8, 8, 6, 'b', 'a', 2, 1]"
      ]
     },
     "execution_count": 8,
     "metadata": {},
     "output_type": "execute_result"
    }
   ],
   "source": [
    "# Like tuple, you can still use cmp(list1,list2), len(list), max(list), min(list)\n",
    "# list.reverse() can be used to reverse a list\n",
    "\n",
    "d.reverse()\n",
    "d"
   ]
  },
  {
   "cell_type": "code",
   "execution_count": 9,
   "metadata": {
    "collapsed": false
   },
   "outputs": [
    {
     "name": "stdout",
     "output_type": "stream",
     "text": [
      "['tom', 'mat', 'beth']\n",
      "['tom', 'mat', 'beth']\n"
     ]
    }
   ],
   "source": [
    "# There can be nested list for loop\n",
    "\n",
    "data = [['tom','mat'],['ann','beth']]\n",
    "result1 = [name for names in data for name in names if name.count('n')<2]\n",
    "print(result1)\n",
    "\n",
    "#Code above is the same as code below\n",
    "\n",
    "result2 = []\n",
    "for names in data:\n",
    "    for name in names:\n",
    "        if name.count('n')<2:\n",
    "            result2.append(name)\n",
    "print(result2)"
   ]
  }
 ],
 "metadata": {
  "kernelspec": {
   "display_name": "Python 3",
   "language": "python",
   "name": "python3"
  },
  "language_info": {
   "codemirror_mode": {
    "name": "ipython",
    "version": 3
   },
   "file_extension": ".py",
   "mimetype": "text/x-python",
   "name": "python",
   "nbconvert_exporter": "python",
   "pygments_lexer": "ipython3",
   "version": "3.4.3"
  }
 },
 "nbformat": 4,
 "nbformat_minor": 0
}
