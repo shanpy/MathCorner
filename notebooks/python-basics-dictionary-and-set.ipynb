{
 "metadata": {
  "name": "",
  "signature": "sha256:3deb1b7261fa213f7439e30029534187bdaeb61a35f8b9cb5fedef99d6999bd2"
 },
 "nbformat": 3,
 "nbformat_minor": 0,
 "worksheets": [
  {
   "cells": [
    {
     "cell_type": "markdown",
     "metadata": {},
     "source": [
      "This post is one of **Python Basics** reading notes. You can find all reading notes from the collection of \"Python\" tag. Parts of information for this notes comes from <a href=\"http://www.tutorialspoint.com/python/python_dictionary.htm\">Python Tutorial on tutorialspoint.com</a>."
     ]
    },
    {
     "cell_type": "markdown",
     "metadata": {},
     "source": [
      "<!-- TEASER_END -->"
     ]
    },
    {
     "cell_type": "heading",
     "level": 3,
     "metadata": {},
     "source": [
      "Dictionary"
     ]
    },
    {
     "cell_type": "code",
     "collapsed": false,
     "input": [
      "# Dict can be created by \"{}\"\n",
      "# Insertion and Access operations for dict are the same as tuples and lists\n",
      "\n",
      "# Dict use key-value pair, so you can access values by calling \"[key]\"\n",
      "# Values can be anything, such as string, number or list, tuple\n",
      "# However keys has to be immutable objects. It is call hashability.\n",
      "# hash() can be used to check hashablity. For example,list/set is not hashable\n",
      "\n",
      "d = {(1,2,3):[1,2,3],\"test\":\"Helloworld\"}\n",
      "print(d)\n",
      "print(d[(1,2,3)])"
     ],
     "language": "python",
     "metadata": {},
     "outputs": [
      {
       "output_type": "stream",
       "stream": "stdout",
       "text": [
        "{'test': 'Helloworld', (1, 2, 3): [1, 2, 3]}\n",
        "[1, 2, 3]\n"
       ]
      }
     ],
     "prompt_number": 53
    },
    {
     "cell_type": "code",
     "collapsed": false,
     "input": [
      "# More than one same key is allowed.\n",
      "# If there exists more than one same key, last value will be chosen\n",
      "\n",
      "e = {\"a\":1,\"a\":2}\n",
      "e[\"a\"]"
     ],
     "language": "python",
     "metadata": {},
     "outputs": [
      {
       "metadata": {},
       "output_type": "pyout",
       "prompt_number": 54,
       "text": [
        "2"
       ]
      }
     ],
     "prompt_number": 54
    },
    {
     "cell_type": "code",
     "collapsed": false,
     "input": [
      "# Just like list, \"in\" can be used to check existence\n",
      "# Just like list, \"del\" and \"pop\" are the functions for removing\n",
      "# Just like list, cmp(dict1,dict2) and len(dict) are available\n",
      "# clear() can be used to clear all items in dict\n",
      "\n",
      "d = {'a':[1,2,3],'b':\"Helloworld\"}\n",
      "del d['a']\n",
      "print(d)\n",
      "print(d.pop('b')) #Return the item that was removed\n",
      "print(None in d)\n",
      "d.clear()\n",
      "len(d)"
     ],
     "language": "python",
     "metadata": {},
     "outputs": [
      {
       "output_type": "stream",
       "stream": "stdout",
       "text": [
        "{'b': 'Helloworld'}\n",
        "Helloworld\n",
        "False\n"
       ]
      },
      {
       "metadata": {},
       "output_type": "pyout",
       "prompt_number": 55,
       "text": [
        "0"
       ]
      }
     ],
     "prompt_number": 55
    },
    {
     "cell_type": "code",
     "collapsed": false,
     "input": [
      "# keys() and values() function return the keys and values for a dict object, as dict\n",
      "\n",
      "# items() return a list of key-value tuples\n",
      "\n",
      "d = {'a':[1,2,3],'b':\"Helloworld\"}\n",
      "print(d.keys())\n",
      "print(d.values())\n",
      "print(d.items())"
     ],
     "language": "python",
     "metadata": {},
     "outputs": [
      {
       "output_type": "stream",
       "stream": "stdout",
       "text": [
        "['a', 'b']\n",
        "[[1, 2, 3], 'Helloworld']\n",
        "[('a', [1, 2, 3]), ('b', 'Helloworld')]\n"
       ]
      }
     ],
     "prompt_number": 56
    },
    {
     "cell_type": "code",
     "collapsed": false,
     "input": [
      "# update() can merge one dict with another dict\n",
      "d.update({\"c\":(5,6)})\n",
      "d"
     ],
     "language": "python",
     "metadata": {},
     "outputs": [
      {
       "metadata": {},
       "output_type": "pyout",
       "prompt_number": 57,
       "text": [
        "{'a': [1, 2, 3], 'b': 'Helloworld', 'c': (5, 6)}"
       ]
      }
     ],
     "prompt_number": 57
    },
    {
     "cell_type": "code",
     "collapsed": false,
     "input": [
      "# [key] can be used to update exising key-value pair or insert new key-value pair\n",
      "d['b'] = 5\n",
      "d['d'] = None\n",
      "d"
     ],
     "language": "python",
     "metadata": {},
     "outputs": [
      {
       "metadata": {},
       "output_type": "pyout",
       "prompt_number": 58,
       "text": [
        "{'a': [1, 2, 3], 'b': 5, 'c': (5, 6), 'd': None}"
       ]
      }
     ],
     "prompt_number": 58
    },
    {
     "cell_type": "code",
     "collapsed": false,
     "input": [
      "# str(dict) can return a string of dict, include all commas and curly braces\n",
      "# type(var) return type of varaible\n",
      "str(d)"
     ],
     "language": "python",
     "metadata": {},
     "outputs": [
      {
       "metadata": {},
       "output_type": "pyout",
       "prompt_number": 59,
       "text": [
        "\"{'a': [1, 2, 3], 'c': (5, 6), 'b': 5, 'd': None}\""
       ]
      }
     ],
     "prompt_number": 59
    },
    {
     "cell_type": "code",
     "collapsed": false,
     "input": [
      "# dict.copy() return a copy of dict\n",
      "# dict1.update(dict2) add content of dict2 to dict1. Repeated value will not be copyed\n",
      "\n",
      "e = d.copy()\n",
      "print(e)\n",
      "e.update(d)\n",
      "print(e)\n",
      "e.update({\"e\":\"Helloworld\"})\n",
      "print(e)"
     ],
     "language": "python",
     "metadata": {},
     "outputs": [
      {
       "output_type": "stream",
       "stream": "stdout",
       "text": [
        "{'a': [1, 2, 3], 'c': (5, 6), 'b': 5, 'd': None}\n",
        "{'a': [1, 2, 3], 'c': (5, 6), 'b': 5, 'd': None}\n",
        "{'a': [1, 2, 3], 'c': (5, 6), 'b': 5, 'e': 'Helloworld', 'd': None}\n"
       ]
      }
     ],
     "prompt_number": 60
    },
    {
     "cell_type": "code",
     "collapsed": false,
     "input": [
      "# dict.fromkeys(list,value) takes a list of items and values, then produce a new dict with these keys and values\n",
      "# value is optional. If value existing, all keys will be assigned this value\n",
      "\n",
      "f = dict.fromkeys([\"a\",\"b\"],[5,10]) #Note we use \"dict\" directly here\n",
      "f"
     ],
     "language": "python",
     "metadata": {},
     "outputs": [
      {
       "metadata": {},
       "output_type": "pyout",
       "prompt_number": 61,
       "text": [
        "{'a': [5, 10], 'b': [5, 10]}"
       ]
      }
     ],
     "prompt_number": 61
    },
    {
     "cell_type": "code",
     "collapsed": false,
     "input": [
      "# dict.get(key) return the value for this key. If key is not available, return None\n",
      "# dict.has_key(key) return true if key exists. Otherwise return false\n",
      "# dict.setdefault(key) is similar to get() except if key is not there, a key will be created\n",
      "\n",
      "print(f.get('c'))\n",
      "print(f.has_key('c'))\n",
      "f.setdefault('c')\n",
      "f"
     ],
     "language": "python",
     "metadata": {},
     "outputs": [
      {
       "output_type": "stream",
       "stream": "stdout",
       "text": [
        "None\n",
        "False\n"
       ]
      },
      {
       "metadata": {},
       "output_type": "pyout",
       "prompt_number": 62,
       "text": [
        "{'a': [5, 10], 'b': [5, 10], 'c': None}"
       ]
      }
     ],
     "prompt_number": 62
    },
    {
     "cell_type": "heading",
     "level": 3,
     "metadata": {},
     "source": [
      "Set"
     ]
    },
    {
     "cell_type": "code",
     "collapsed": false,
     "input": [
      "# Set is an unsorted collection of unqiue items. \n",
      "# Set can be created by \"{}\" or set()\n",
      "\n",
      "a = set(\"test\") #if you use set(var), var must be iterable \n",
      "a #repeated value will be automatically removed"
     ],
     "language": "python",
     "metadata": {},
     "outputs": [
      {
       "metadata": {},
       "output_type": "pyout",
       "prompt_number": 63,
       "text": [
        "{'e', 's', 't'}"
       ]
      }
     ],
     "prompt_number": 63
    },
    {
     "cell_type": "code",
     "collapsed": false,
     "input": [
      "# \"&\" , \"|\" and \"-(difference)\", \"^(xor)\" can be applied to set\n",
      "# set can use \"==\"\n",
      "\n",
      "b = a | {'e'}\n",
      "print(b)\n",
      "print(a == b)"
     ],
     "language": "python",
     "metadata": {},
     "outputs": [
      {
       "output_type": "stream",
       "stream": "stdout",
       "text": [
        "set(['s', 'e', 't'])\n",
        "True\n"
       ]
      }
     ],
     "prompt_number": 68
    },
    {
     "cell_type": "code",
     "collapsed": false,
     "input": [
      "# issubset() and issuperset() can be used to decide subset or superset\n",
      "# isdisjoint() is used to check if two sets has any elements in common. Return true if two sets are totally different\n",
      "\n",
      "b = {'e','s'}\n",
      "print(a.issuperset(b))\n",
      "print(a.isdisjoint(b))"
     ],
     "language": "python",
     "metadata": {},
     "outputs": [
      {
       "output_type": "stream",
       "stream": "stdout",
       "text": [
        "True\n",
        "False\n"
       ]
      }
     ],
     "prompt_number": 69
    }
   ],
   "metadata": {}
  }
 ]
}