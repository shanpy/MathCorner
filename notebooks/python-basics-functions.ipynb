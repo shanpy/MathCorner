{
 "metadata": {
  "name": "",
  "signature": "sha256:fdf9458651134672b92165f810a5564393874355be9b662a4eeae73df1813569"
 },
 "nbformat": 3,
 "nbformat_minor": 0,
 "worksheets": [
  {
   "cells": [
    {
     "cell_type": "markdown",
     "metadata": {},
     "source": [
      "This post is one of **Python Basics** reading notes. You can find all reading notes from the collection of \"Python\" tag. Parts of information for this notes comes from <a href=\"http://www.tutorialspoint.com/python/python_functions.htm\">Python Tutorial on tutorialspoint.com</a>."
     ]
    },
    {
     "cell_type": "markdown",
     "metadata": {},
     "source": [
      "<!-- TEASER_END -->"
     ]
    },
    {
     "cell_type": "code",
     "collapsed": false,
     "input": [
      "# Potential Argument: def f_name(x,y)\n",
      "# Keyword Argument: def f_name(x=1.5)  Keyword argument allows over-write\n",
      "\n",
      "#In python, functions are objects. So they can be re-used as normal objects\n",
      "\n",
      "def f():\n",
      "    a = (1,2,3)\n",
      "    b = [1,2,3]\n",
      "    return a,b #You can return mutiple items in one function\n",
      "c,d = f()\n",
      "c,d"
     ],
     "language": "python",
     "metadata": {},
     "outputs": [
      {
       "metadata": {},
       "output_type": "pyout",
       "prompt_number": 3,
       "text": [
        "((1, 2, 3), [1, 2, 3])"
       ]
      }
     ],
     "prompt_number": 3
    },
    {
     "cell_type": "code",
     "collapsed": false,
     "input": [
      "# Lambda Function in Python: lambda [arg1 [,arg2,.....argn]]:expression\n",
      "# Lambda function only return one value\n",
      "# Lambda function only can access varaible in its own namespace. It cannot access global variable\n",
      "\n",
      "def short_f(x):\n",
      "    return x*2\n",
      "\n",
      "lam_f = lambda x:x*2 #You need to assign lambda function to a variable \n",
      "    \n",
      "a = 5\n",
      "print(short_f(a))\n",
      "print(lam_f(a))"
     ],
     "language": "python",
     "metadata": {},
     "outputs": [
      {
       "output_type": "stream",
       "stream": "stdout",
       "text": [
        "10\n",
        "10\n"
       ]
      }
     ],
     "prompt_number": 11
    },
    {
     "cell_type": "code",
     "collapsed": false,
     "input": [
      "# A closure is any dynamically-generated function, returned by another function\n",
      "# Closure function continue to have access to the function where it is created\n",
      "\n",
      "def f(a,b):\n",
      "    #Closure function needs to make its parameter relating to previous parameter\n",
      "    def formatter(x=a): \n",
      "        return (x*b)\n",
      "    return formatter #Return name of closure function\n",
      "\n",
      "fmt = f(1,2)\n",
      "fmt()"
     ],
     "language": "python",
     "metadata": {},
     "outputs": [
      {
       "metadata": {},
       "output_type": "pyout",
       "prompt_number": 18,
       "text": [
        "2"
       ]
      }
     ],
     "prompt_number": 18
    },
    {
     "cell_type": "code",
     "collapsed": false,
     "input": [
      "# Currying: your can use \"partial\" to derving new functions from existing one\n",
      "# You need \"from functools import partial\" before you use \"partial\"\n",
      "\n",
      "def add_num(x,y):\n",
      "    return x+y\n",
      "\n",
      "from functools import partial\n",
      "add_5 = partial(add_num,5)\n",
      "# Now add_5 is a function that use add_num content, and second parameter is 5\n",
      "add_5(4) "
     ],
     "language": "python",
     "metadata": {},
     "outputs": [
      {
       "metadata": {},
       "output_type": "pyout",
       "prompt_number": 19,
       "text": [
        "9"
       ]
      }
     ],
     "prompt_number": 19
    },
    {
     "cell_type": "code",
     "collapsed": false,
     "input": [
      "#Python has build-in enumerate function: \n",
      "# 1. for i, v in enumerate(collection_name). i means the index, v is the value\n",
      "# 2. x for y in enumerate(collection_name)\n",
      "\n",
      "a = ['a',2,(1,2)]\n",
      "d = {}\n",
      "for i, v in enumerate(a):\n",
      "    d.update({i:v})\n",
      "    print(d)\n",
      "    \n",
      "print({(i,v) for i,v in enumerate(a)})"
     ],
     "language": "python",
     "metadata": {},
     "outputs": [
      {
       "output_type": "stream",
       "stream": "stdout",
       "text": [
        "{0: 'a'}\n",
        "{0: 'a', 1: 2}\n",
        "{0: 'a', 1: 2, 2: (1, 2)}\n",
        "set([(1, 2), (2, (1, 2)), (0, 'a')])\n"
       ]
      }
     ],
     "prompt_number": 37
    },
    {
     "cell_type": "code",
     "collapsed": false,
     "input": [
      "#Python has sorted() function which return a sorted list from any sequence\n",
      "\n",
      "sorted('Hellow') #Always return a list"
     ],
     "language": "python",
     "metadata": {},
     "outputs": [
      {
       "metadata": {},
       "output_type": "pyout",
       "prompt_number": 38,
       "text": [
        "['H', 'e', 'l', 'l', 'o', 'w']"
       ]
      }
     ],
     "prompt_number": 38
    },
    {
     "cell_type": "code",
     "collapsed": false,
     "input": [
      "#Python has zip() which pairs two sequnce and create a list of tuples\n",
      "# Unzip using \"zip(*[item])\"\n",
      "\n",
      "seq1 = [5,6,\"test\"]\n",
      "seq2 = {\"a\":1,\"b\":2}\n",
      "seq3 = (11,22,\"test2\")\n",
      "#If items in two seqs are not coresponding, extra item will be skipped\n",
      "print(zip(seq1,seq2))\n",
      "print(zip(seq1,seq3))\n",
      "\n",
      "seq4,seq5,seq6 = zip(*[('a',1,\"bb\"),(11,12,(1,2)),(\"test\",\"test2\",\"test3\")])\n",
      "print(seq4)\n",
      "print(seq5)\n",
      "print(seq6)"
     ],
     "language": "python",
     "metadata": {},
     "outputs": [
      {
       "output_type": "stream",
       "stream": "stdout",
       "text": [
        "[(5, 'a'), (6, 'b')]\n",
        "[(5, 11), (6, 22), ('test', 'test2')]\n",
        "('a', 11, 'test')\n",
        "(1, 12, 'test2')\n",
        "('bb', (1, 2), 'test3')\n"
       ]
      }
     ],
     "prompt_number": 45
    },
    {
     "cell_type": "markdown",
     "metadata": {},
     "source": [
      "**Functions for Filter and the Operating System**\n",
      "\n",
      "`open(path)` for open file. Default is read-only.\n",
      "\n",
      "Opened file can be treated as `list`: `for line in open(path): #...`\n",
      "\n",
      "- `open(path,'w')`: *write-only* mode\n",
      "- `open(path,'r')`: *read-only* mode\n",
      "- `open(path,'a')`: append to existing/create if not exist\n",
      "- `open(path,'b')`: add to mode for binary files\n",
      "\n",
      "File Related Functions:\n",
      "\n",
      "- `read([size])`: return data as `string` with `[size]` bytes\n",
      "- `readlines([size])`: return list of lines in file\n",
      "- `write([size])`/`writelines([size])`: same as above\n",
      "- `close()`: close file\n",
      "- `flush()`: flush internal `i/o` buffer to disk\n",
      "- `seek(pos)`: move to position pos\n",
      "- `tell()`: return current file position as integer \n",
      "- `closed()`: return true if file is closed"
     ]
    }
   ],
   "metadata": {}
  }
 ]
}